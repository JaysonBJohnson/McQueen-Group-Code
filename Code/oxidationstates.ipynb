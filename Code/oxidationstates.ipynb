{
 "cells": [
  {
   "cell_type": "code",
   "execution_count": 1,
   "metadata": {},
   "outputs": [],
   "source": [
    "import pymatgen\n",
    "import numpy as np\n",
    "from mp_api.client import MPRester\n",
    "import re\n",
    "import pandas as pd\n",
    "import torch\n"
   ]
  },
  {
   "cell_type": "code",
   "execution_count": 5,
   "metadata": {},
   "outputs": [
    {
     "data": {
      "application/vnd.jupyter.widget-view+json": {
       "model_id": "26291562a879445b8deb9e568246b76c",
       "version_major": 2,
       "version_minor": 0
      },
      "text/plain": [
       "Retrieving SummaryDoc documents:   0%|          | 0/33 [00:00<?, ?it/s]"
      ]
     },
     "metadata": {},
     "output_type": "display_data"
    }
   ],
   "source": [
    "\n",
    "with MPRester(\"Lv3H4D1twE2kDiXZLWdaBTIRM82iRdCi\") as mpr:\n",
    "    docs = mpr.summary.search(\n",
    "        chemsys=\"Nb-O\", fields=[\"material_id\", \"formula_pretty\"]\n",
    "    )\n",
    "    mpid_bgap_dict = {doc.material_id: doc.formula_pretty for doc in docs}\n"
   ]
  },
  {
   "cell_type": "code",
   "execution_count": 10,
   "metadata": {},
   "outputs": [
    {
     "data": {
      "text/plain": [
       "{MPID(mp-1364247): 'Nb2O5',\n",
       " MPID(mp-510554): 'Nb12O29',\n",
       " MPID(mp-1470): 'Nb12O29',\n",
       " MPID(mp-2533): 'NbO2',\n",
       " MPID(mp-2692): 'NbO',\n",
       " MPID(mp-1095187): 'Nb2O3',\n",
       " MPID(mp-821): 'NbO2',\n",
       " MPID(mp-776975): 'NbO2',\n",
       " MPID(mp-1101660): 'Nb2O5',\n",
       " MPID(mp-755690): 'NbO2',\n",
       " MPID(mp-25214): 'NbO2',\n",
       " MPID(mp-1232391): 'Nb4O9',\n",
       " MPID(mp-1245189): 'NbO2',\n",
       " MPID(mp-1244973): 'NbO2',\n",
       " MPID(mp-649729): 'NbO2',\n",
       " MPID(mp-680944): 'Nb2O5',\n",
       " MPID(mp-634965): 'NbO',\n",
       " MPID(mp-556048): 'Nb2O5',\n",
       " MPID(mp-776896): 'Nb2O5',\n",
       " MPID(mp-1179977): 'NbO3',\n",
       " MPID(mp-581967): 'Nb2O5',\n",
       " MPID(mp-1186241): 'NbO3',\n",
       " MPID(mp-1595): 'Nb2O5',\n",
       " MPID(mp-557057): 'NbO2',\n",
       " MPID(mp-604): 'Nb2O5',\n",
       " MPID(mp-28212): 'Nb4O5',\n",
       " MPID(mp-1201852): 'Nb2O5',\n",
       " MPID(mp-10426): 'Nb2O5',\n",
       " MPID(mp-2311): 'NbO',\n",
       " MPID(mp-1220361): 'NbO3',\n",
       " MPID(mp-1244881): 'NbO2',\n",
       " MPID(mp-766361): 'Nb2O5',\n",
       " MPID(mp-754698): 'NbO2'}"
      ]
     },
     "execution_count": 10,
     "metadata": {},
     "output_type": "execute_result"
    }
   ],
   "source": [
    "mpid_bgap_dict"
   ]
  },
  {
   "cell_type": "code",
   "execution_count": null,
   "metadata": {},
   "outputs": [],
   "source": []
  },
  {
   "cell_type": "code",
   "execution_count": null,
   "metadata": {},
   "outputs": [],
   "source": []
  },
  {
   "cell_type": "code",
   "execution_count": 40,
   "metadata": {},
   "outputs": [],
   "source": [
    "### GETTING LIST OF ALL POSSIBLE OXIDATION STATES FOR ELEMENTS IN PERIODIC TABLE.\n",
    "from bs4 import BeautifulSoup\n",
    "import requests"
   ]
  },
  {
   "cell_type": "code",
   "execution_count": 53,
   "metadata": {},
   "outputs": [],
   "source": [
    "url = 'https://en.wikipedia.org/wiki/Template:Infobox_element/symbol-to-oxidation-state'\n",
    "response = requests.get(url)\n",
    "html_content = response.text\n",
    "soup = BeautifulSoup(html_content, 'html.parser')\n",
    "table = soup.find_all('table', {'class': 'wikitable'})  # Replace 'wikitable' with the class name or other identifying attributes of the target table\n"
   ]
  },
  {
   "cell_type": "code",
   "execution_count": 54,
   "metadata": {},
   "outputs": [
    {
     "name": "stderr",
     "output_type": "stream",
     "text": [
      "C:\\Users\\songo\\AppData\\Local\\Temp\\ipykernel_13412\\865070844.py:9: VisibleDeprecationWarning: Creating an ndarray from ragged nested sequences (which is a list-or-tuple of lists-or-tuples-or ndarrays with different lengths or shapes) is deprecated. If you meant to do this, you must specify 'dtype=object' when creating the ndarray.\n",
      "  array_data = np.array(data)\n"
     ]
    }
   ],
   "source": [
    "data = []\n",
    "for row in table[1].find_all('tr'):\n",
    "    row_data = []\n",
    "    for cell in row.find_all(['td', 'th']):\n",
    "        row_data.append(cell.text.strip())\n",
    "    if row_data:\n",
    "        data.append(row_data)\n",
    "\n",
    "array_data = np.array(data)"
   ]
  },
  {
   "cell_type": "code",
   "execution_count": 95,
   "metadata": {},
   "outputs": [
    {
     "name": "stdout",
     "output_type": "stream",
     "text": [
      "['7', 'nitrogen', 'N', '−3, −2, −1, 0, 1, 2, 3, 4, 5 ', '−3, 3, 5', '15', 'V', '-3, -2, -1, 1, 2, 3, 4, 5', '']\n"
     ]
    }
   ],
   "source": [
    "import numpy as np\n",
    "import re\n",
    "def remove_enclosed_elements(elements):\n",
    "    modified_elements = []\n",
    "\n",
    "    for element in elements:\n",
    "        # Remove elements surrounded by square brackets\n",
    "        element = re.sub(r'\\[[^]]*\\]', '', element)\n",
    "\n",
    "        # Remove elements surrounded by parentheses\n",
    "        element = re.sub(r'\\([^)]*\\)', '', element)\n",
    "        \n",
    "        element = element.replace('+','')\n",
    "\n",
    "        modified_elements.append(element)\n",
    "\n",
    "    return modified_elements\n",
    "\n",
    "# Example usage\n",
    "modified_arr = remove_enclosed_elements(array_data[9])\n",
    "print(modified_arr)\n",
    "\n",
    "\n"
   ]
  },
  {
   "cell_type": "code",
   "execution_count": 113,
   "metadata": {},
   "outputs": [],
   "source": [
    "oxidation_states = ['Symbol', 'OxidationStates', 'MainStates']\n",
    "for states in array_data[3:120]:\n",
    "    cleanstate = remove_enclosed_elements(states)\n",
    "    Symbol = cleanstate[2]\n",
    "    oxstates = cleanstate[3]\n",
    "    mainstates = cleanstate[4]\n",
    "    oxidation_states = np.vstack([oxidation_states, [Symbol, oxstates, mainstates]])"
   ]
  },
  {
   "cell_type": "code",
   "execution_count": 121,
   "metadata": {},
   "outputs": [],
   "source": [
    "# Checkpoint!\n",
    "np.savetxt('oxidationstates.csv', oxidation_states, delimiter=',',fmt='%s')\n"
   ]
  },
  {
   "cell_type": "code",
   "execution_count": 125,
   "metadata": {},
   "outputs": [
    {
     "name": "stdout",
     "output_type": "stream",
     "text": [
      "['Be0O1' 'Be1O1' 'Be2O1' 'N3O1' 'N2O1' 'N1O1' 'N0O1' 'N1O1' 'N2O1' 'N3O1'\n",
      " 'N4O1' 'N5O1' 'Mg0O1' 'Mg1O1' 'Mg2O1' 'P3O1' 'P2O1' 'P1O1' 'P0O1' 'P1O1'\n",
      " 'P2O1' 'P3O1' 'P4O1' 'P5O1' 'S2O2' 'S1O2' 'S0O2' 'S1O2' 'S2O2' 'S3O2'\n",
      " 'S4O2' 'S5O2' 'S6O2' 'Ti2O1' 'Ti1O1' 'Ti0O1' 'Ti1O1' 'Ti2O1' 'Ti3O1'\n",
      " 'Ti4O1' 'Mn3O2' 'Mn2O2' 'Mn1O2' 'Mn0O2' 'Mn1O2' 'Mn2O2' 'Mn3O2' 'Mn4O2'\n",
      " 'Mn5O2' 'Mn6O2' 'Mn7O2' 'Ni2O1' 'Ni1O1' 'Ni0O1' 'Ni1O1' 'Ni2O1' 'Ni3O1'\n",
      " 'Ni4O1' 'Ga5O1' 'Ga4O1' 'Ga3O1' 'Ga2O1' 'Ga1O1' 'Ga0O1' 'Ga1O1' 'Ga2O1'\n",
      " 'Ga3O1' 'As3O1' 'As2O1' 'As1O1' 'As0O1' 'As1O1' 'As2O1' 'As3O1' 'As4O1'\n",
      " 'As5O1' 'Se2O2' 'Se1O2' 'Se0O2' 'Se1O2' 'Se2O2' 'Se3O2' 'Se4O2' 'Se5O2'\n",
      " 'Se6O2' 'Br1O3' 'Br1O3' 'Br2O3' 'Br3O3' 'Br4O3' 'Br5O3' 'Br7O3' 'Kr0O1'\n",
      " 'Kr1O1' 'Kr2O1' 'Sb3O1' 'Sb2O1' 'Sb1O1' 'Sb0O1' 'Sb1O1' 'Sb2O1' 'Sb3O1'\n",
      " 'Sb4O1' 'Sb5O1' 'Te2O2' 'Te1O2' 'Te0O2' 'Te1O2' 'Te2O2' 'Te3O2' 'Te4O2'\n",
      " 'Te5O2' 'Te6O2' 'Xe0O4' 'Xe2O4' 'Xe4O4' 'Xe6O4' 'Xe8O4' 'Tb0O2' 'Tb1O2'\n",
      " 'Tb2O2' 'Tb3O2' 'Tb4O2' 'Dy0O2' 'Dy1O2' 'Dy2O2' 'Dy3O2' 'Dy4O2' 'Bi3O1'\n",
      " 'Bi2O1' 'Bi1O1' 'Bi0O1' 'Bi1O1' 'Bi2O1' 'Bi3O1' 'Bi4O1' 'Bi5O1' 'Po2O3'\n",
      " 'Po2O3' 'Po4O3' 'Po5O3' 'Po6O3' 'At1O3' 'At1O3' 'At3O3' 'At5O3' 'At7O3'\n",
      " 'Fr1O1' 'Ra2O2' 'Ac3O3' 'Pu2O5' 'Pu3O5' 'Pu4O5' 'Pu5O5' 'Pu6O5' 'Pu7O5'\n",
      " 'Pu8O5' 'Es2O3' 'Es3O3' 'Es4O3' 'Lr3O3' 'Rf4O4' 'Db5O5' 'Sg0O3' 'Sg6O3'\n",
      " 'Bh7O7' 'Hs8O8' 'Cn0O1' 'Cn2O1']\n"
     ]
    }
   ],
   "source": [
    "import numpy as np\n",
    "\n",
    "# Oxidation state data (replace with the actual data)\n",
    "oxidation_states = oxidation_states[1:len(oxidation_states)-1]\n",
    "\n",
    "# Function to parse oxidation states from the string\n",
    "def parse_oxidation_states(oxidation_states_str):\n",
    "    oxidation_states_str = oxidation_states_str.replace('−', '-')  # Replace minus sign character\n",
    "    oxidation_states = oxidation_states_str.split(',')\n",
    "    oxidation_states = [int(state.strip()) for state in oxidation_states if state.strip()]  # Strip whitespace characters\n",
    "    return oxidation_states\n",
    "\n",
    "\n",
    "# Function to generate oxide formulas based on charge balance\n",
    "def generate_oxide_formulas():\n",
    "    oxide_formulas = []\n",
    "    for element_data in oxidation_states:\n",
    "        element = element_data[0]\n",
    "        element_states_str = element_data[1]\n",
    "        element_states = parse_oxidation_states(element_states_str)\n",
    "        for state in element_states:\n",
    "            # Check if the element is oxygen\n",
    "            if element == \"O\":\n",
    "                continue  # Skip oxygen, as it cannot form an oxide with itself\n",
    "            # Determine the required oxidation state of oxygen to satisfy charge balance\n",
    "            oxygen_state = -sum(element_states) / len(element_states)\n",
    "            # Check if the required oxidation state of oxygen is an integer\n",
    "            if oxygen_state.is_integer() and oxygen_state != 0:\n",
    "                # Generate the oxide formula based on the oxidation states\n",
    "                oxide_formula = element + str(abs(state)) + \"O\" + str(int(abs(oxygen_state)))\n",
    "                oxide_formulas.append(oxide_formula)\n",
    "    return oxide_formulas\n",
    "\n",
    "# Generate the oxide formulas\n",
    "oxide_formulas = generate_oxide_formulas()\n",
    "\n",
    "# Convert the list to a numpy array\n",
    "oxide_formulas_array = np.array(oxide_formulas)\n",
    "\n",
    "# Print the numpy array\n",
    "print(oxide_formulas_array)\n"
   ]
  },
  {
   "cell_type": "code",
   "execution_count": null,
   "metadata": {},
   "outputs": [],
   "source": []
  }
 ],
 "metadata": {
  "kernelspec": {
   "display_name": "base",
   "language": "python",
   "name": "python3"
  },
  "language_info": {
   "codemirror_mode": {
    "name": "ipython",
    "version": 3
   },
   "file_extension": ".py",
   "mimetype": "text/x-python",
   "name": "python",
   "nbconvert_exporter": "python",
   "pygments_lexer": "ipython3",
   "version": "3.9.13"
  },
  "orig_nbformat": 4
 },
 "nbformat": 4,
 "nbformat_minor": 2
}
