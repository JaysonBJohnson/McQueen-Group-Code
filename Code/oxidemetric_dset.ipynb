{
 "cells": [
  {
   "cell_type": "code",
   "execution_count": 1,
   "metadata": {},
   "outputs": [],
   "source": [
    "import pymatgen\n",
    "import numpy as np\n",
    "from mp_api.client import MPRester\n",
    "import re\n",
    "import pandas as pd\n",
    "import torch\n",
    "import qmpy_rester as qr"
   ]
  },
  {
   "cell_type": "code",
   "execution_count": 2,
   "metadata": {},
   "outputs": [],
   "source": [
    "# Datasets\n",
    "# Really only using Hamidieh but just in case.\n",
    "supercon_path = 'datasets/superconraw/primary.tsv'\n",
    "hamidieh_path_data = 'datasets/Hamidieh; A Data-Driven Statistical Model for Predicting the Critical Temperature of a Superconductor/train.csv'\n",
    "hamidieh_path_names = 'datasets/Hamidieh; A Data-Driven Statistical Model for Predicting the Critical Temperature of a Superconductor/unique_m.csv'\n",
    "supercon_raw = np.genfromtxt(supercon_path, delimiter='\\t')\n",
    "supercondata_path = 'datasets/supercondata/220808_MDR_OAndM.txt'\n",
    "\n",
    "# Open the text file and read its contents with the appropriate encoding\n",
    "with open(supercondata_path, 'r', encoding='latin-1') as file:\n",
    "    # Read the lines of the file\n",
    "    lines = file.readlines()\n",
    "\n",
    "# Process the lines and split into columns\n",
    "supercondata_raw = []\n",
    "for line in lines:\n",
    "    columns = line.split('\\t')  # Split each line by tab\n",
    "    supercondata_raw.append(columns)\n",
    "\n",
    "supercondata_raw = np.array(supercondata_raw)"
   ]
  },
  {
   "cell_type": "code",
   "execution_count": 3,
   "metadata": {},
   "outputs": [
    {
     "name": "stderr",
     "output_type": "stream",
     "text": [
      "C:\\Users\\songo\\AppData\\Local\\Temp\\ipykernel_39744\\1742257389.py:15: VisibleDeprecationWarning: Creating an ndarray from ragged nested sequences (which is a list-or-tuple of lists-or-tuples-or ndarrays with different lengths or shapes) is deprecated. If you meant to do this, you must specify 'dtype=object' when creating the ndarray.\n",
      "  supercon_formations = np.array(supercon_formations)\n"
     ]
    }
   ],
   "source": [
    "hamidieh_data = pd.read_csv(hamidieh_path_data)\n",
    "hamidieh_names = pd.read_csv(hamidieh_path_names)\n",
    "periodictable = pd.read_csv('PeriodicTableCleaned_data.csv')\n",
    "binaryoxides = np.genfromtxt('binaryoxide_data.csv', delimiter=',', dtype=None, encoding=None)\n",
    "\n",
    "supercon_formations = []\n",
    "import csv\n",
    "# Open the CSV file\n",
    "with open('supercon_formationE.csv', 'r') as csvfile:\n",
    "    reader = csv.reader(csvfile)\n",
    "    for row in reader:\n",
    "        supercon_formations.append(row)\n",
    "\n",
    "# Convert the data into a NumPy array\n",
    "supercon_formations = np.array(supercon_formations)"
   ]
  },
  {
   "cell_type": "code",
   "execution_count": 4,
   "metadata": {},
   "outputs": [],
   "source": [
    "# pnoxides = ['Li2O','Na2O','Al2O3','K2O','CaO','V2O5','Cr2O3','Mn2O3','BeO','MgO','Sc2O3','TiO2','Fe2O3','Co3O4','NiO','CuO','ZnO','Ga2O3','Rb2O','SrO','Y2O3',\n",
    "#             'ZrO2', 'Nb2O5','MoO3','RuO2','Rh2O3','PdO','AgO','CdO','In2O3','SnO2','Cs2O','BaO','HfO2','Ta2O5','WO3','Re2O7','OsO2','IrO2','PtO','Au2O3','HgO'\n",
    "#             ,'Tl2O3','PbO2','Bi2O3','La2O3','CeO2','Pr6O11','Nd2O3','Sm2O3','Eu2O3','Gd2O3','Tb4O6','Dy2O3','Ho2O3','Er2O3','Tm2O3','Yb2O3','Lu2O3','ThO2'\n",
    "#             ,'UO2']\n",
    "\n",
    "# #chatgpt common oxides for each element\n",
    "# likliestoxides = ['Li2O', 'BeO', 'Na2O', 'MgO', 'Al2O3', 'SiO2', 'P4O10', 'SO3', 'Cl2O7', 'K2O', 'CaO', 'Sc2O3', 'TiO2', 'V2O5', 'Cr2O3', 'MnO2', 'Fe2O3', 'CoO', 'NiO', 'CuO', 'ZnO', 'Ga2O3', 'GeO2', 'As2O5', 'SeO2', 'Br2O5', 'Rb2O', 'SrO', 'Y2O3', 'ZrO2', 'Nb2O5', 'MoO3', 'TcO3', 'RuO2', 'Rh2O3', 'PdO', 'Ag2O', 'CdO', 'In2O3', 'SnO2', 'Sb2O5', 'TeO2', 'I2O5', 'Cs2O', 'BaO', 'La2O3', 'CeO2', 'Pr6O11', 'Nd2O3', 'PmO2', 'Sm2O3', 'Eu2O3', 'Gd2O3', 'Tb4O7', 'Dy2O3', 'Ho2O3', 'Er2O3', 'Tm2O3', 'Yb2O3', 'Lu2O3', 'HfO2', 'Ta2O5', 'W3O8', 'Re2O7', 'OsO4', 'IrO3', 'PtO2', 'Au2O3', 'HgO', 'Tl2O', 'PbO', 'Bi2O3', 'ThO2', 'Pa2O5', 'U3O8', 'NpO2', 'PuO2', 'Am2O3', 'Cm2O3', 'Bk2O3', 'Cf2O3', 'Es2O3', 'Fm2O3', 'Md2O3', 'No2O3', 'Lr2O3', 'RfO2', 'DbO2', 'SgO2', 'BhO2', 'HsO2', 'MtO2', 'DsO2', 'RgO2', 'CnO2', 'Nh2O3', 'Fl2O3', 'Mc2O3', 'Lv2O3', 'Ts2O3', 'Og2O3']\n",
    "# likliestoxides_multiple = ['Li2O', 'BeO', 'Na2O', 'MgO', 'Al2O3', 'SiO2', 'P4O10', 'SO3', 'Cl2O7', 'K2O', 'CaO', 'Sc2O3', 'TiO2', 'V2O5', 'Cr2O3', 'MnO2', 'Fe2O3', 'CoO', 'NiO', 'CuO', 'ZnO', 'Ga2O3', 'GeO2', 'As2O5', 'SeO2', 'Br2O5', 'Rb2O', 'SrO', 'Y2O3', 'ZrO2', 'Nb2O5', 'MoO3', 'TcO3', 'RuO2', 'Rh2O3', 'PdO', 'Ag2O', 'CdO', 'In2O3', 'SnO2', 'Sb2O5', 'TeO2', 'I2O5', 'Cs2O', 'BaO', 'La2O3', 'CeO2', 'Pr6O11', 'Nd2O3', 'PmO2', 'Sm2O3', 'Eu2O3', 'Gd2O3', 'Tb4O7', 'Dy2O3', 'Ho2O3', 'Er2O3', 'Tm2O3', 'Yb2O3', 'Lu2O3', 'HfO2', 'Ta2O5', 'W3O8', 'Re2O7', 'OsO4', 'IrO3', 'PtO2', 'Au2O3', 'HgO', 'Tl2O', 'PbO', 'Bi2O3', 'ThO2', 'Pa2O5', 'U3O8', 'NpO2', 'PuO2', 'Am2O3', 'Cm2O3', 'Bk2O3', 'Cf2O3', 'Es2O3', 'Fm2O3', 'Md2O3', 'No2O3', 'Lr2O3', 'RfO2', 'DbO2', 'SgO2', 'BhO2', 'HsO2', 'MtO2', 'DsO2', 'RgO2', 'CnO2', 'Nh2O3', 'Fl2O3', 'Mc2O3', 'Lv2O3', 'Ts2O3', 'Og2O3', 'Li2O2', 'BeO2', 'Na2O2', 'MgO2', 'AlO', 'SiO', 'P2O3', 'SO2', 'Cl2O', 'K2O2', 'CaO2', 'ScO3', 'TiO', 'V2O3', 'CrO3', 'MnO', 'FeO', 'Co2O3', 'Ni2O3', 'Cu2O', 'ZnO2', 'GaO', 'GeO', 'As2O3', 'SeO3', 'Br2O3', 'Rb2O3', 'SrO2', 'YO', 'ZrO', 'NbO2', 'MoO2', 'TcO2', 'RuO', 'RhO3', 'Pd2O3', 'Ag2O3', 'CdO2', 'InO2', 'SnO', 'Sb2O3', 'TeO3', 'I2O3', 'Cs2O2', 'BaO2', 'LaO3', 'Ce2O3', 'Pr2O3', 'Nd2O5', 'Pm2O3', 'Sm2O3', 'Eu2O', 'GdO3', 'Tb2O3', 'Dy2O', 'Ho2O', 'Er2O', 'Tm2O', 'Yb2O', 'Lu2O', 'HfO', 'Ta2O3', 'WO3', 'Re2O5', 'Os2O3', 'IrO', 'PtO', 'AuO', 'Hg2O', 'Tl2O3', 'PbO2', 'BiO3', 'ThO', 'PaO2', 'UO2', 'Np2O3', 'Pu2O3', 'Am2O', 'Cm2O', 'Bk2O', 'Cf2O', 'Es2O', 'Fm2O', 'Md2O', 'No2O', 'Lr2O', 'RfO', 'DbO', 'SgO', 'BhO', 'HsO', 'MtO', 'DsO', 'RgO', 'CnO', 'Nh2O', 'Fl2O', 'Mc2O', 'Lv2O', 'Ts2O', 'Og2O']\n",
    "\n",
    "# len(likliestoxides)\n"
   ]
  },
  {
   "cell_type": "code",
   "execution_count": 89,
   "metadata": {},
   "outputs": [],
   "source": [
    "material_dataset = []\n",
    "\n",
    "mainingredient = ['Superconductor'] ###\n",
    "calculation1 = ['Formation Energy of supercon']\n",
    "calculation2 = ['Weighted formation energy of likely oxides']\n",
    "\n",
    "maincomp = ['atomicradius1','atomicradius2','atomicradius3','atomicradius4','atomicradius5','atomicradius6','atomicradius7','atomicradius8','atomicradius9','atomicradius10',\n",
    "            'fusionheat1','fusionheat2','fusionheat3','fusionheat4','fusionheat5','fusionheat6','fusionheat7','fusionheat8','fusionheat9','fusionheat10',\n",
    "            'thermalcond1','thermalcond2','thermalcond3','thermalcond4','thermalcond5','thermalcond6','thermalcond7','thermalcond8','thermalcond9','thermalcond10',\n",
    "            'numvalence1','numvalence2','numvalence3','numvalence4','numvalence5','numvalence6','numvalence7','numvalence8','numvalence9','numvalence10',\n",
    "            'Tc'] ###\n",
    "\n",
    "comp1 = ['number','period','group','Gas','Solid','Liquid','atomic_mass','boil','density','melt','electron_affinity','electronegativity_pauling','firstionE']\n",
    "comp2 = ['number','period','group','Gas','Solid','Liquid','atomic_mass','boil','density','melt','electron_affinity','electronegativity_pauling','firstionE']\n",
    "comp3 = ['number','period','group','Gas','Solid','Liquid','atomic_mass','boil','density','melt','electron_affinity','electronegativity_pauling','firstionE']\n",
    "comp4 = ['number','period','group','Gas','Solid','Liquid','atomic_mass','boil','density','melt','electron_affinity','electronegativity_pauling','firstionE']\n",
    "comp5 = ['number','period','group','Gas','Solid','Liquid','atomic_mass','boil','density','melt','electron_affinity','electronegativity_pauling','firstionE']\n",
    "comp6 = ['number','period','group','Gas','Solid','Liquid','atomic_mass','boil','density','melt','electron_affinity','electronegativity_pauling','firstionE']\n",
    "comp7 = ['number','period','group','Gas','Solid','Liquid','atomic_mass','boil','density','melt','electron_affinity','electronegativity_pauling','firstionE']\n",
    "comp8 = ['number','period','group','Gas','Solid','Liquid','atomic_mass','boil','density','melt','electron_affinity','electronegativity_pauling','firstionE']\n",
    "comp9 = ['number','period','group','Gas','Solid','Liquid','atomic_mass','boil','density','melt','electron_affinity','electronegativity_pauling','firstionE']\n",
    "ingredient_coefficients = ['comp1','comp2','comp3','comp4','comp5','comp6','comp7','comp8','comp9']\n",
    "all_comp = np.concatenate((ingredient_coefficients,comp1,comp2,comp3,comp4,comp5,comp6,comp7,comp8,comp9))\n",
    "\n",
    "\n"
   ]
  },
  {
   "cell_type": "code",
   "execution_count": 90,
   "metadata": {},
   "outputs": [],
   "source": [
    "#### Make this very big data table. God this is a pain.\n",
    "### Atomic radius is 21:31      Fusion heat is \n",
    "maincomp_atomicradius = np.array(hamidieh_data.iloc[:, 21:31])\n",
    "maincomp_fusionheat = np.array(hamidieh_data.iloc[:, 51:61])\n",
    "maincomp_thermalcond = np.array(hamidieh_data.iloc[:, 61:71])\n",
    "maincomp_numvalence = np.array(hamidieh_data.iloc[:, 71:81])\n",
    "maincomp_Tc = np.array(hamidieh_data.iloc[:,81])\n",
    "\n",
    "#### RESERVED FOR CLEAN COMPONENT DATA ONLY\n",
    "mainingredient_data = np.array(hamidieh_names.iloc[:,-1])\n",
    "maincomp_data = np.column_stack((maincomp_atomicradius,maincomp_fusionheat,maincomp_thermalcond,maincomp_numvalence,maincomp_Tc))\n",
    "#### EASY DATA IS DONE HERE\n",
    "calculation1 = [element[-2] for element in supercon_formations[1:len(supercon_formations)]]\n",
    "\n",
    "\n"
   ]
  },
  {
   "cell_type": "code",
   "execution_count": 91,
   "metadata": {},
   "outputs": [],
   "source": [
    "# Boot up materials project\n",
    "# api_key = 'Lv3H4D1twE2kDiXZLWdaBTIRM82iRdCi'\n",
    "# mpr = MPRester(api_key)\n",
    "\n",
    "#### OBTAIN calculation1\n",
    "def getbinaryoxides(element):\n",
    "    oxides_data = np.asarray([999999,999999,999999])\n",
    "    checker = np.asarray([999999,999999,999999])\n",
    "    chars = len(element)\n",
    "    for oxides in binaryoxides:\n",
    "        if element == oxides[1][0:chars] and oxides[1][chars:chars+1].isdigit():\n",
    "            oxidename = oxides[1]\n",
    "            oxideformE = oxides[2]\n",
    "            oxideEperatom = oxides[3]\n",
    "            oxides_data = np.vstack((oxides_data, [oxidename, oxideformE, oxideEperatom]))\n",
    "    \n",
    "    if np.shape(oxides_data) == np.shape(checker):\n",
    "        return [0]\n",
    "    else:\n",
    "        rank_indices = np.argsort(oxides_data[:,1])\n",
    "        rankedoxides = np.flip(oxides_data[rank_indices], axis=0)\n",
    "        return rankedoxides\n",
    "\n",
    "### End output here is ranked_neg_oxides with the most likely oxide first.\n",
    "def weight_exp(arr):\n",
    "    weighted_arr = []\n",
    "    # Weight using a logistic function\n",
    "    supremum = np.max(arr)\n",
    "    exp = len(arr) / 2\n",
    "    x0 = np.average(arr) - np.std(arr)\n",
    "    for energies in arr:\n",
    "        weight = supremum/(1+np.exp(exp*(energies-x0))) * -1\n",
    "        weighted_arr.append(weight)    \n",
    "        \n",
    "    return weighted_arr\n",
    "\n",
    "#### STORE calculation 1\n"
   ]
  },
  {
   "cell_type": "code",
   "execution_count": 92,
   "metadata": {},
   "outputs": [],
   "source": [
    "### Create list of element oxides and their formation energies + weights\n",
    "\n",
    "elements = np.asarray(periodictable['symbol'])\n",
    "elements_data = np.asarray(periodictable.iloc[:, 1:])\n",
    "element_oxides = []\n",
    "\n",
    "for sample in elements:\n",
    "    test = getbinaryoxides(sample) \n",
    "    if np.shape(test) == np.shape([0]):\n",
    "        element_oxides.append([0])\n",
    "        continue\n",
    "    list = test\n",
    "    neg_oxides_name = []\n",
    "    neg_oxides_formE = []\n",
    "    neg_oxides_Eperatom = []\n",
    "\n",
    "    ### Get rid of positive formation energy oxides.\n",
    "    for oxides in list:\n",
    "        if float(oxides[1]) < 0:\n",
    "            neg_oxides_name.append(oxides[0])\n",
    "            neg_oxides_formE.append(oxides[1])\n",
    "            neg_oxides_Eperatom.append(oxides[2])\n",
    "\n",
    "    neg_oxides = np.column_stack((neg_oxides_name, neg_oxides_formE, neg_oxides_Eperatom))\n",
    "            \n",
    "    uniques = np.unique(neg_oxides[:,0])\n",
    "    list_uniques = []\n",
    "    for oxides in uniques:\n",
    "        formationE = neg_oxides[neg_oxides[:, 0] == oxides]\n",
    "        likelyoxide = [formationE[0][0], formationE[0][1], formationE[0][2]]\n",
    "        list_uniques.append(likelyoxide)\n",
    "        # make into numpy array\n",
    "    list_uniques = np.asarray(list_uniques)\n",
    "    if len(list_uniques) == 0:\n",
    "        element_oxides.append([0])\n",
    "        continue\n",
    "        \n",
    "    ### list_uniques is the thing we want\n",
    "    rank_list = np.argsort(list_uniques[:,1])\n",
    "    ranked_neg_oxides = np.flip(list_uniques[rank_list], axis=0)\n",
    "    ranked_neg_oxides_formE = np.asarray(ranked_neg_oxides[:,1], dtype = float)\n",
    "    \n",
    "    raw_weights_oxides = weight_exp(ranked_neg_oxides_formE)\n",
    "    normalized_weights = raw_weights_oxides / np.sum(raw_weights_oxides)\n",
    "    \n",
    "    ####### THIS PART MAY NEED UPDATING IF WE DECIDE TO INCLUDE TERNARY OXIDES\n",
    "    coeff_first = []\n",
    "    coeff_second = []\n",
    "    for oxides in ranked_neg_oxides:\n",
    "        formula = oxides[0]\n",
    "        coeff_first.append(re.search(r'\\d+', formula).group())\n",
    "        if formula[-1].isdigit():\n",
    "            coeff_second.append(re.findall(r'\\d+', formula)[1])\n",
    "        else:\n",
    "            coeff_second.append(1)\n",
    "    \n",
    "    coeff_first = np.asarray(coeff_first, dtype=float)\n",
    "    coeff_second = np.asarray(coeff_second, dtype=float)\n",
    "    netformE = np.asarray(ranked_neg_oxides[:,1], dtype=float) * (coeff_first + coeff_second)\n",
    "    \n",
    "    ### likely_oxides => Formatted as [Oxide name, Formation Energy / atom, Energy per atom, net formE, Weights, numfirstatoms]\n",
    "    likely_oxides = np.column_stack((ranked_neg_oxides, netformE, normalized_weights, coeff_first))\n",
    "    element_oxides.append(likely_oxides)\n"
   ]
  },
  {
   "cell_type": "code",
   "execution_count": 93,
   "metadata": {},
   "outputs": [],
   "source": [
    "### Using this function takes the approach - \n",
    "## Assume that X% of element is allocated to this alloy, X% to the other alloy, X% to another...\n",
    "# Then net formation energy is actual # of alloy made * net formation energy of alloy \n",
    "\n",
    "def componentformE_mass(element, size):\n",
    "    indexarr = np.where(elements == element)\n",
    "    index = indexarr[0][0]\n",
    "    oxides = element_oxides[index]\n",
    "    if oxides[0] == 0:\n",
    "        return 0\n",
    "    numelements_inoxide = np.asarray(oxides[:,5], dtype = float)\n",
    "    weights = np.asarray(oxides[:,4], dtype = float)\n",
    "    netformE = np.asarray(oxides[:,3], dtype = float)\n",
    "    \n",
    "    allocated_element = size * weights\n",
    "    weighted_oxides = allocated_element / numelements_inoxide\n",
    "    formE_oxides = weighted_oxides * netformE\n",
    "    \n",
    "    partialformE = np.sum(formE_oxides)\n",
    "    return partialformE\n",
    "\n",
    "### The other option is that X% of the TOTAL oxides made is 1, X% of the total is 2, ...\n",
    "## Procedure is:\n",
    "# First, based on coeff_first of the alloy, determine how much total hydrogen is required from percentages.\n",
    "# So if there's 100 alloys total, X% * coeff_first[0] + X% * coeff_first[1] + ... = net # elements\n",
    "#\n",
    "\n",
    "def componentformE_total(element,size):\n",
    "    indexarr = np.where(elements == element)\n",
    "    index = indexarr[0][0]\n",
    "    oxides = element_oxides[index]\n",
    "    if oxides[0] == 0:\n",
    "        return 0\n",
    "    numelements_inoxide = np.asarray(oxides[:,5], dtype = float)\n",
    "    weights = np.asarray(oxides[:,4], dtype = float)\n",
    "    netformE = np.asarray(oxides[:,3], dtype = float)\n",
    "    \n",
    "    netelement = np.sum(weights*numelements_inoxide)\n",
    "    multiplier = float(size) / float(netelement)\n",
    "    formE_oxides = multiplier*netformE*weights\n",
    "    \n",
    "    partialformE = np.sum(formE_oxides)\n",
    "    return partialformE\n"
   ]
  },
  {
   "cell_type": "code",
   "execution_count": 94,
   "metadata": {},
   "outputs": [
    {
     "name": "stderr",
     "output_type": "stream",
     "text": [
      "C:\\Users\\songo\\AppData\\Local\\Temp\\ipykernel_39744\\44576258.py:32: FutureWarning: elementwise comparison failed; returning scalar instead, but in the future will perform elementwise comparison\n",
      "  if oxides[0] == 0:\n"
     ]
    }
   ],
   "source": [
    "### Remember the formation energies of the oxides (weighted) is calculation2\n",
    "calculation2 = []\n",
    "\n",
    "import chemparse\n",
    "\n",
    "for ingredient in mainingredient_data:\n",
    "    parsedformula = chemparse.parse_formula(ingredient)\n",
    "    parsedelements = [*parsedformula.keys()]\n",
    "    parsedcomp = [*parsedformula.values()]\n",
    "    parsed_main = np.column_stack((parsedelements,parsedcomp))\n",
    "    calc_formE = []\n",
    "    for components in parsed_main:\n",
    "        element = components[0]\n",
    "        size = components[1]\n",
    "        formE = componentformE_total(element, size)\n",
    "        calc_formE.append(formE)\n",
    "    weightedformE = np.sum(np.asarray(calc_formE, dtype=float))\n",
    "    calculation2.append(weightedformE)\n",
    "    \n",
    "### after running, calculation2 is now set. "
   ]
  },
  {
   "cell_type": "code",
   "execution_count": 95,
   "metadata": {},
   "outputs": [
    {
     "data": {
      "text/plain": [
       "array([5., 5.])"
      ]
     },
     "execution_count": 95,
     "metadata": {},
     "output_type": "execute_result"
    }
   ],
   "source": [
    "elements = np.asarray(periodictable['symbol'])\n",
    "elements_data = np.asarray(periodictable.iloc[:, 1:])\n",
    "index = np.where(elements == 'Cu')[0][0]\n",
    "index\n",
    "dat = [5]\n",
    "test = []\n",
    "test = np.concatenate((test, dat))\n",
    "test = np.concatenate((test, dat))\n",
    "\n",
    "test"
   ]
  },
  {
   "cell_type": "code",
   "execution_count": 96,
   "metadata": {},
   "outputs": [],
   "source": [
    "### Now populate the component data. We leave those bois blank if there aren't enough components.T\n",
    "all_comp = []\n",
    "for ingredient in mainingredient_data:\n",
    "    parsedformula = chemparse.parse_formula(ingredient)\n",
    "    parsedelements = [*parsedformula.keys()]\n",
    "    parsedcomp = [*parsedformula.values()]\n",
    "    parsed_main = np.column_stack((parsedelements,parsedcomp))\n",
    "    \n",
    "    complen = len(comp1)*9\n",
    "    compfill = len(parsedelements)*13\n",
    "    coefflen = len(ingredient_coefficients)\n",
    "    coeff_fill = len(parsedelements)\n",
    "    comp_unfilled = complen - compfill\n",
    "    coeff_unfilled = coefflen - coeff_fill\n",
    "    \n",
    "    unfilled_comp = np.zeros(comp_unfilled)\n",
    "    unfilled_coeff = np.zeros(coeff_unfilled)\n",
    "    filled_comp = []\n",
    "    filled_coeff = []\n",
    "    for parsed in parsed_main:\n",
    "        element = parsed[0]\n",
    "        weight = [parsed[1]]\n",
    "        index = np.where(elements == element)[0][0]\n",
    "        elementdata = elements_data[index]\n",
    "\n",
    "        filled_coeff = np.concatenate((filled_coeff, weight))\n",
    "        filled_comp = np.concatenate((filled_comp, elementdata))\n",
    "        \n",
    "    net_comp = np.concatenate((filled_comp, unfilled_comp))\n",
    "    net_coeff = np.concatenate((filled_coeff, unfilled_coeff))\n",
    "    \n",
    "    row = np.concatenate((net_coeff, net_comp))\n",
    "    \n",
    "    all_comp.append(row)\n",
    "    \n",
    "    "
   ]
  },
  {
   "cell_type": "code",
   "execution_count": 102,
   "metadata": {},
   "outputs": [
    {
     "name": "stdout",
     "output_type": "stream",
     "text": [
      "(21263,)\n",
      "(21263,)\n",
      "(21263,)\n",
      "(21263, 41)\n",
      "(21263, 126)\n"
     ]
    }
   ],
   "source": [
    "## test - all first shape elements should be the same\n",
    "print(np.shape(mainingredient_data))\n",
    "print(np.shape(calculation1))\n",
    "print(np.shape(calculation2))\n",
    "print(np.shape(maincomp_data))\n",
    "print(np.shape(all_comp))"
   ]
  },
  {
   "cell_type": "code",
   "execution_count": 104,
   "metadata": {},
   "outputs": [],
   "source": [
    "material_dataset_data = np.column_stack((mainingredient_data, calculation1, calculation2, maincomp_data, all_comp))"
   ]
  },
  {
   "cell_type": "code",
   "execution_count": 106,
   "metadata": {},
   "outputs": [],
   "source": [
    "np.savetxt('material_dset_data.csv', material_dataset_data, delimiter=',',fmt='%s')\n"
   ]
  },
  {
   "cell_type": "code",
   "execution_count": null,
   "metadata": {},
   "outputs": [],
   "source": []
  }
 ],
 "metadata": {
  "kernelspec": {
   "display_name": "base",
   "language": "python",
   "name": "python3"
  },
  "language_info": {
   "codemirror_mode": {
    "name": "ipython",
    "version": 3
   },
   "file_extension": ".py",
   "mimetype": "text/x-python",
   "name": "python",
   "nbconvert_exporter": "python",
   "pygments_lexer": "ipython3",
   "version": "3.9.13"
  },
  "orig_nbformat": 4
 },
 "nbformat": 4,
 "nbformat_minor": 2
}
